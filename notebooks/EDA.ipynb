{
 "cells": [
  {
   "cell_type": "code",
   "id": "38f07a3df0e8f932",
   "metadata": {
    "collapsed": false,
    "ExecuteTime": {
     "end_time": "2024-11-29T15:01:37.355944Z",
     "start_time": "2024-11-29T15:01:37.350246Z"
    }
   },
   "source": [
    "import pandas as pd\n",
    "import matplotlib.pyplot as plt\n",
    "import seaborn as sns"
   ],
   "outputs": [],
   "execution_count": 49
  },
  {
   "cell_type": "code",
   "id": "02b135bc",
   "metadata": {
    "ExecuteTime": {
     "end_time": "2024-11-29T15:01:40.423645Z",
     "start_time": "2024-11-29T15:01:37.362575Z"
    }
   },
   "source": [
    "import urllib.request\n",
    "\n",
    "url = \"https://github.com/eishkina-estia/ML2023/raw/main/data/New_York_City_Taxi_Trip_Duration.zip\"\n",
    "output_file = \"New_York_City_Taxi_Trip_Duration.zip\"\n",
    "\n",
    "urllib.request.urlretrieve(url, output_file)\n",
    "print(\"Fichier téléchargé avec succès !\")\n"
   ],
   "outputs": [
    {
     "name": "stdout",
     "output_type": "stream",
     "text": [
      "Fichier téléchargé avec succès !\n"
     ]
    }
   ],
   "execution_count": 50
  },
  {
   "cell_type": "code",
   "id": "8de5d9d0",
   "metadata": {
    "ExecuteTime": {
     "end_time": "2024-11-29T15:01:44.063551Z",
     "start_time": "2024-11-29T15:01:40.439646Z"
    }
   },
   "source": [
    "import os\n",
    "\n",
    "path = 'New_York_City_Taxi_Trip_Duration.zip'\n",
    "data = pd.read_csv(path, compression='zip')\n",
    "os.remove(path)"
   ],
   "outputs": [],
   "execution_count": 51
  },
  {
   "cell_type": "code",
   "id": "7355f709697c96d",
   "metadata": {
    "collapsed": false,
    "ExecuteTime": {
     "end_time": "2024-11-29T15:01:44.083438Z",
     "start_time": "2024-11-29T15:01:44.079220Z"
    }
   },
   "source": [
    "import sys\n",
    "sys.path.append('../')\n",
    "import common"
   ],
   "outputs": [],
   "execution_count": 52
  },
  {
   "cell_type": "code",
   "id": "90329db0fa6c08cf",
   "metadata": {
    "collapsed": false,
    "ExecuteTime": {
     "end_time": "2024-11-29T15:01:45.618002Z",
     "start_time": "2024-11-29T15:01:44.101602Z"
    }
   },
   "source": [
    "from sklearn.model_selection import train_test_split\n",
    "\n",
    "X = data.drop(columns=['id', 'trip_duration', 'dropoff_datetime'])\n",
    "# Convertir 'pickup_datetime' en datetime\n",
    "X['pickup_datetime'] = pd.to_datetime(data['pickup_datetime'])\n",
    "\n",
    "# Extraire des informations temporelles et les convertir en entiers\n",
    "X['pickup_hour'] = X['pickup_datetime'].dt.hour               # Heure de la journée (de 0 à 23)\n",
    "X['pickup_dayofweek'] = X['pickup_datetime'].dt.dayofweek     # Jour de la semaine (0=Monday, 6=Sunday)\n",
    "X['pickup_month'] = X['pickup_datetime'].dt.month             # Mois (1 à 12)\n",
    "X['pickup_year'] = X['pickup_datetime'].dt.year               # Année (par exemple, 2021)\n",
    "X['pickup_day'] = X['pickup_datetime'].dt.day                 # Jour du mois (1 à 31)\n",
    "\n",
    "# Supprimer la colonne 'pickup_datetime' maintenant qu'on a extrait les informations\n",
    "X = X.drop(columns=['pickup_datetime'])\n",
    "\n",
    "#Remplacement des variables catégorielles\n",
    "X['vendor_id'] = X['vendor_id'].map({1: 0, 2: 1})\n",
    "X['store_and_fwd_flag'] = X['store_and_fwd_flag'].map({'N': 0, 'Y': 1})\n",
    "\n",
    "y = data['trip_duration']\n",
    "display(X.shape)\n",
    "X.head()"
   ],
   "outputs": [
    {
     "data": {
      "text/plain": [
       "(1458644, 12)"
      ]
     },
     "metadata": {},
     "output_type": "display_data"
    },
    {
     "data": {
      "text/plain": [
       "   vendor_id  passenger_count  pickup_longitude  pickup_latitude  \\\n",
       "0          1                1        -73.982155        40.767937   \n",
       "1          0                1        -73.980415        40.738564   \n",
       "2          1                1        -73.979027        40.763939   \n",
       "3          1                1        -74.010040        40.719971   \n",
       "4          1                1        -73.973053        40.793209   \n",
       "\n",
       "   dropoff_longitude  dropoff_latitude  store_and_fwd_flag  pickup_hour  \\\n",
       "0         -73.964630         40.765602                   0           17   \n",
       "1         -73.999481         40.731152                   0            0   \n",
       "2         -74.005333         40.710087                   0           11   \n",
       "3         -74.012268         40.706718                   0           19   \n",
       "4         -73.972923         40.782520                   0           13   \n",
       "\n",
       "   pickup_dayofweek  pickup_month  pickup_year  pickup_day  \n",
       "0                 0             3         2016          14  \n",
       "1                 6             6         2016          12  \n",
       "2                 1             1         2016          19  \n",
       "3                 2             4         2016           6  \n",
       "4                 5             3         2016          26  "
      ],
      "text/html": [
       "<div>\n",
       "<style scoped>\n",
       "    .dataframe tbody tr th:only-of-type {\n",
       "        vertical-align: middle;\n",
       "    }\n",
       "\n",
       "    .dataframe tbody tr th {\n",
       "        vertical-align: top;\n",
       "    }\n",
       "\n",
       "    .dataframe thead th {\n",
       "        text-align: right;\n",
       "    }\n",
       "</style>\n",
       "<table border=\"1\" class=\"dataframe\">\n",
       "  <thead>\n",
       "    <tr style=\"text-align: right;\">\n",
       "      <th></th>\n",
       "      <th>vendor_id</th>\n",
       "      <th>passenger_count</th>\n",
       "      <th>pickup_longitude</th>\n",
       "      <th>pickup_latitude</th>\n",
       "      <th>dropoff_longitude</th>\n",
       "      <th>dropoff_latitude</th>\n",
       "      <th>store_and_fwd_flag</th>\n",
       "      <th>pickup_hour</th>\n",
       "      <th>pickup_dayofweek</th>\n",
       "      <th>pickup_month</th>\n",
       "      <th>pickup_year</th>\n",
       "      <th>pickup_day</th>\n",
       "    </tr>\n",
       "  </thead>\n",
       "  <tbody>\n",
       "    <tr>\n",
       "      <th>0</th>\n",
       "      <td>1</td>\n",
       "      <td>1</td>\n",
       "      <td>-73.982155</td>\n",
       "      <td>40.767937</td>\n",
       "      <td>-73.964630</td>\n",
       "      <td>40.765602</td>\n",
       "      <td>0</td>\n",
       "      <td>17</td>\n",
       "      <td>0</td>\n",
       "      <td>3</td>\n",
       "      <td>2016</td>\n",
       "      <td>14</td>\n",
       "    </tr>\n",
       "    <tr>\n",
       "      <th>1</th>\n",
       "      <td>0</td>\n",
       "      <td>1</td>\n",
       "      <td>-73.980415</td>\n",
       "      <td>40.738564</td>\n",
       "      <td>-73.999481</td>\n",
       "      <td>40.731152</td>\n",
       "      <td>0</td>\n",
       "      <td>0</td>\n",
       "      <td>6</td>\n",
       "      <td>6</td>\n",
       "      <td>2016</td>\n",
       "      <td>12</td>\n",
       "    </tr>\n",
       "    <tr>\n",
       "      <th>2</th>\n",
       "      <td>1</td>\n",
       "      <td>1</td>\n",
       "      <td>-73.979027</td>\n",
       "      <td>40.763939</td>\n",
       "      <td>-74.005333</td>\n",
       "      <td>40.710087</td>\n",
       "      <td>0</td>\n",
       "      <td>11</td>\n",
       "      <td>1</td>\n",
       "      <td>1</td>\n",
       "      <td>2016</td>\n",
       "      <td>19</td>\n",
       "    </tr>\n",
       "    <tr>\n",
       "      <th>3</th>\n",
       "      <td>1</td>\n",
       "      <td>1</td>\n",
       "      <td>-74.010040</td>\n",
       "      <td>40.719971</td>\n",
       "      <td>-74.012268</td>\n",
       "      <td>40.706718</td>\n",
       "      <td>0</td>\n",
       "      <td>19</td>\n",
       "      <td>2</td>\n",
       "      <td>4</td>\n",
       "      <td>2016</td>\n",
       "      <td>6</td>\n",
       "    </tr>\n",
       "    <tr>\n",
       "      <th>4</th>\n",
       "      <td>1</td>\n",
       "      <td>1</td>\n",
       "      <td>-73.973053</td>\n",
       "      <td>40.793209</td>\n",
       "      <td>-73.972923</td>\n",
       "      <td>40.782520</td>\n",
       "      <td>0</td>\n",
       "      <td>13</td>\n",
       "      <td>5</td>\n",
       "      <td>3</td>\n",
       "      <td>2016</td>\n",
       "      <td>26</td>\n",
       "    </tr>\n",
       "  </tbody>\n",
       "</table>\n",
       "</div>"
      ]
     },
     "execution_count": 53,
     "metadata": {},
     "output_type": "execute_result"
    }
   ],
   "execution_count": 53
  },
  {
   "cell_type": "code",
   "id": "7060e9b24e9dfbc6",
   "metadata": {
    "collapsed": false,
    "ExecuteTime": {
     "end_time": "2024-11-29T15:01:46.292499Z",
     "start_time": "2024-11-29T15:01:45.666207Z"
    }
   },
   "source": [
    "X.describe()"
   ],
   "outputs": [
    {
     "data": {
      "text/plain": [
       "          vendor_id  passenger_count  pickup_longitude  pickup_latitude  \\\n",
       "count  1.458644e+06     1.458644e+06      1.458644e+06     1.458644e+06   \n",
       "mean   5.349503e-01     1.664530e+00     -7.397349e+01     4.075092e+01   \n",
       "std    4.987772e-01     1.314242e+00      7.090186e-02     3.288119e-02   \n",
       "min    0.000000e+00     0.000000e+00     -1.219333e+02     3.435970e+01   \n",
       "25%    0.000000e+00     1.000000e+00     -7.399187e+01     4.073735e+01   \n",
       "50%    1.000000e+00     1.000000e+00     -7.398174e+01     4.075410e+01   \n",
       "75%    1.000000e+00     2.000000e+00     -7.396733e+01     4.076836e+01   \n",
       "max    1.000000e+00     9.000000e+00     -6.133553e+01     5.188108e+01   \n",
       "\n",
       "       dropoff_longitude  dropoff_latitude  store_and_fwd_flag   pickup_hour  \\\n",
       "count       1.458644e+06      1.458644e+06        1.458644e+06  1.458644e+06   \n",
       "mean       -7.397342e+01      4.075180e+01        5.515396e-03  1.360648e+01   \n",
       "std         7.064327e-02      3.589056e-02        7.406066e-02  6.399693e+00   \n",
       "min        -1.219333e+02      3.218114e+01        0.000000e+00  0.000000e+00   \n",
       "25%        -7.399133e+01      4.073588e+01        0.000000e+00  9.000000e+00   \n",
       "50%        -7.397975e+01      4.075452e+01        0.000000e+00  1.400000e+01   \n",
       "75%        -7.396301e+01      4.076981e+01        0.000000e+00  1.900000e+01   \n",
       "max        -6.133553e+01      4.392103e+01        1.000000e+00  2.300000e+01   \n",
       "\n",
       "       pickup_dayofweek  pickup_month  pickup_year    pickup_day  \n",
       "count      1.458644e+06  1.458644e+06    1458644.0  1.458644e+06  \n",
       "mean       3.050375e+00  3.516818e+00       2016.0  1.550402e+01  \n",
       "std        1.954039e+00  1.681038e+00          0.0  8.703135e+00  \n",
       "min        0.000000e+00  1.000000e+00       2016.0  1.000000e+00  \n",
       "25%        1.000000e+00  2.000000e+00       2016.0  8.000000e+00  \n",
       "50%        3.000000e+00  4.000000e+00       2016.0  1.500000e+01  \n",
       "75%        5.000000e+00  5.000000e+00       2016.0  2.300000e+01  \n",
       "max        6.000000e+00  6.000000e+00       2016.0  3.100000e+01  "
      ],
      "text/html": [
       "<div>\n",
       "<style scoped>\n",
       "    .dataframe tbody tr th:only-of-type {\n",
       "        vertical-align: middle;\n",
       "    }\n",
       "\n",
       "    .dataframe tbody tr th {\n",
       "        vertical-align: top;\n",
       "    }\n",
       "\n",
       "    .dataframe thead th {\n",
       "        text-align: right;\n",
       "    }\n",
       "</style>\n",
       "<table border=\"1\" class=\"dataframe\">\n",
       "  <thead>\n",
       "    <tr style=\"text-align: right;\">\n",
       "      <th></th>\n",
       "      <th>vendor_id</th>\n",
       "      <th>passenger_count</th>\n",
       "      <th>pickup_longitude</th>\n",
       "      <th>pickup_latitude</th>\n",
       "      <th>dropoff_longitude</th>\n",
       "      <th>dropoff_latitude</th>\n",
       "      <th>store_and_fwd_flag</th>\n",
       "      <th>pickup_hour</th>\n",
       "      <th>pickup_dayofweek</th>\n",
       "      <th>pickup_month</th>\n",
       "      <th>pickup_year</th>\n",
       "      <th>pickup_day</th>\n",
       "    </tr>\n",
       "  </thead>\n",
       "  <tbody>\n",
       "    <tr>\n",
       "      <th>count</th>\n",
       "      <td>1.458644e+06</td>\n",
       "      <td>1.458644e+06</td>\n",
       "      <td>1.458644e+06</td>\n",
       "      <td>1.458644e+06</td>\n",
       "      <td>1.458644e+06</td>\n",
       "      <td>1.458644e+06</td>\n",
       "      <td>1.458644e+06</td>\n",
       "      <td>1.458644e+06</td>\n",
       "      <td>1.458644e+06</td>\n",
       "      <td>1.458644e+06</td>\n",
       "      <td>1458644.0</td>\n",
       "      <td>1.458644e+06</td>\n",
       "    </tr>\n",
       "    <tr>\n",
       "      <th>mean</th>\n",
       "      <td>5.349503e-01</td>\n",
       "      <td>1.664530e+00</td>\n",
       "      <td>-7.397349e+01</td>\n",
       "      <td>4.075092e+01</td>\n",
       "      <td>-7.397342e+01</td>\n",
       "      <td>4.075180e+01</td>\n",
       "      <td>5.515396e-03</td>\n",
       "      <td>1.360648e+01</td>\n",
       "      <td>3.050375e+00</td>\n",
       "      <td>3.516818e+00</td>\n",
       "      <td>2016.0</td>\n",
       "      <td>1.550402e+01</td>\n",
       "    </tr>\n",
       "    <tr>\n",
       "      <th>std</th>\n",
       "      <td>4.987772e-01</td>\n",
       "      <td>1.314242e+00</td>\n",
       "      <td>7.090186e-02</td>\n",
       "      <td>3.288119e-02</td>\n",
       "      <td>7.064327e-02</td>\n",
       "      <td>3.589056e-02</td>\n",
       "      <td>7.406066e-02</td>\n",
       "      <td>6.399693e+00</td>\n",
       "      <td>1.954039e+00</td>\n",
       "      <td>1.681038e+00</td>\n",
       "      <td>0.0</td>\n",
       "      <td>8.703135e+00</td>\n",
       "    </tr>\n",
       "    <tr>\n",
       "      <th>min</th>\n",
       "      <td>0.000000e+00</td>\n",
       "      <td>0.000000e+00</td>\n",
       "      <td>-1.219333e+02</td>\n",
       "      <td>3.435970e+01</td>\n",
       "      <td>-1.219333e+02</td>\n",
       "      <td>3.218114e+01</td>\n",
       "      <td>0.000000e+00</td>\n",
       "      <td>0.000000e+00</td>\n",
       "      <td>0.000000e+00</td>\n",
       "      <td>1.000000e+00</td>\n",
       "      <td>2016.0</td>\n",
       "      <td>1.000000e+00</td>\n",
       "    </tr>\n",
       "    <tr>\n",
       "      <th>25%</th>\n",
       "      <td>0.000000e+00</td>\n",
       "      <td>1.000000e+00</td>\n",
       "      <td>-7.399187e+01</td>\n",
       "      <td>4.073735e+01</td>\n",
       "      <td>-7.399133e+01</td>\n",
       "      <td>4.073588e+01</td>\n",
       "      <td>0.000000e+00</td>\n",
       "      <td>9.000000e+00</td>\n",
       "      <td>1.000000e+00</td>\n",
       "      <td>2.000000e+00</td>\n",
       "      <td>2016.0</td>\n",
       "      <td>8.000000e+00</td>\n",
       "    </tr>\n",
       "    <tr>\n",
       "      <th>50%</th>\n",
       "      <td>1.000000e+00</td>\n",
       "      <td>1.000000e+00</td>\n",
       "      <td>-7.398174e+01</td>\n",
       "      <td>4.075410e+01</td>\n",
       "      <td>-7.397975e+01</td>\n",
       "      <td>4.075452e+01</td>\n",
       "      <td>0.000000e+00</td>\n",
       "      <td>1.400000e+01</td>\n",
       "      <td>3.000000e+00</td>\n",
       "      <td>4.000000e+00</td>\n",
       "      <td>2016.0</td>\n",
       "      <td>1.500000e+01</td>\n",
       "    </tr>\n",
       "    <tr>\n",
       "      <th>75%</th>\n",
       "      <td>1.000000e+00</td>\n",
       "      <td>2.000000e+00</td>\n",
       "      <td>-7.396733e+01</td>\n",
       "      <td>4.076836e+01</td>\n",
       "      <td>-7.396301e+01</td>\n",
       "      <td>4.076981e+01</td>\n",
       "      <td>0.000000e+00</td>\n",
       "      <td>1.900000e+01</td>\n",
       "      <td>5.000000e+00</td>\n",
       "      <td>5.000000e+00</td>\n",
       "      <td>2016.0</td>\n",
       "      <td>2.300000e+01</td>\n",
       "    </tr>\n",
       "    <tr>\n",
       "      <th>max</th>\n",
       "      <td>1.000000e+00</td>\n",
       "      <td>9.000000e+00</td>\n",
       "      <td>-6.133553e+01</td>\n",
       "      <td>5.188108e+01</td>\n",
       "      <td>-6.133553e+01</td>\n",
       "      <td>4.392103e+01</td>\n",
       "      <td>1.000000e+00</td>\n",
       "      <td>2.300000e+01</td>\n",
       "      <td>6.000000e+00</td>\n",
       "      <td>6.000000e+00</td>\n",
       "      <td>2016.0</td>\n",
       "      <td>3.100000e+01</td>\n",
       "    </tr>\n",
       "  </tbody>\n",
       "</table>\n",
       "</div>"
      ]
     },
     "execution_count": 54,
     "metadata": {},
     "output_type": "execute_result"
    }
   ],
   "execution_count": 54
  },
  {
   "cell_type": "code",
   "id": "89787e80ad3224c1",
   "metadata": {
    "collapsed": false,
    "ExecuteTime": {
     "end_time": "2024-11-29T15:01:46.373202Z",
     "start_time": "2024-11-29T15:01:46.369551Z"
    }
   },
   "source": "#sns.pairplot(X);",
   "outputs": [],
   "execution_count": 55
  },
  {
   "cell_type": "code",
   "id": "760f7ecd70a4dd70",
   "metadata": {
    "collapsed": false,
    "ExecuteTime": {
     "end_time": "2024-11-29T15:01:46.454167Z",
     "start_time": "2024-11-29T15:01:46.450315Z"
    }
   },
   "source": [
    "# Plot the target distribution\n",
    "#sns.displot(y, kde=True, height=4, aspect=2)\n",
    "#plt.title(\"Target distribution\");"
   ],
   "outputs": [],
   "execution_count": 56
  },
  {
   "cell_type": "code",
   "id": "f2cbd22723145c0e",
   "metadata": {
    "collapsed": false,
    "ExecuteTime": {
     "end_time": "2024-11-29T15:01:46.542245Z",
     "start_time": "2024-11-29T15:01:46.526266Z"
    }
   },
   "source": [
    "X.isna().any()"
   ],
   "outputs": [
    {
     "data": {
      "text/plain": [
       "vendor_id             False\n",
       "passenger_count       False\n",
       "pickup_longitude      False\n",
       "pickup_latitude       False\n",
       "dropoff_longitude     False\n",
       "dropoff_latitude      False\n",
       "store_and_fwd_flag    False\n",
       "pickup_hour           False\n",
       "pickup_dayofweek      False\n",
       "pickup_month          False\n",
       "pickup_year           False\n",
       "pickup_day            False\n",
       "dtype: bool"
      ]
     },
     "execution_count": 57,
     "metadata": {},
     "output_type": "execute_result"
    }
   ],
   "execution_count": 57
  },
  {
   "cell_type": "code",
   "id": "d309d6b13643190c",
   "metadata": {
    "collapsed": false,
    "ExecuteTime": {
     "end_time": "2024-11-29T15:01:47.007850Z",
     "start_time": "2024-11-29T15:01:46.612544Z"
    }
   },
   "source": [
    "from sklearn.model_selection import train_test_split\n",
    "data = pd.concat([X,y], axis=1)\n",
    "data_train, data_test = train_test_split(data, test_size=0.2, random_state=common.RANDOM_STATE)\n",
    "display(data_train.shape, data_test.shape)"
   ],
   "outputs": [
    {
     "data": {
      "text/plain": [
       "(1166915, 13)"
      ]
     },
     "metadata": {},
     "output_type": "display_data"
    },
    {
     "data": {
      "text/plain": [
       "(291729, 13)"
      ]
     },
     "metadata": {},
     "output_type": "display_data"
    }
   ],
   "execution_count": 58
  },
  {
   "cell_type": "code",
   "id": "c6135ccc6ce36e0b",
   "metadata": {
    "collapsed": false,
    "ExecuteTime": {
     "end_time": "2024-11-29T15:02:02.938941Z",
     "start_time": "2024-11-29T15:01:47.055381Z"
    }
   },
   "source": [
    "import sqlite3\n",
    "import os\n",
    "\n",
    "db_dir = os.path.dirname(common.DB_PATH)\n",
    "if not os.path.exists(db_dir):\n",
    "    os.makedirs(db_dir)\n",
    "\n",
    "print(f\"Saving train and test data to a database: {common.DB_PATH}\")\n",
    "with sqlite3.connect(common.DB_PATH) as con:\n",
    "    # cur = con.cursor()\n",
    "    # cur.execute(\"DROP TABLE IF EXISTS train\")\n",
    "    # cur.execute(\"DROP TABLE IF EXISTS test\")\n",
    "    data_train.to_sql(name='train', con=con, if_exists=\"replace\")\n",
    "    data_test.to_sql(name='test', con=con, if_exists=\"replace\")"
   ],
   "outputs": [
    {
     "name": "stdout",
     "output_type": "stream",
     "text": [
      "Saving train and test data to a database: C:\\ESTIA\\MLops\\MyProject\\data\\NYC_taxi.db\n"
     ]
    }
   ],
   "execution_count": 59
  },
  {
   "cell_type": "code",
   "id": "724a7a4b4733721c",
   "metadata": {
    "collapsed": false,
    "ExecuteTime": {
     "end_time": "2024-11-29T15:02:02.953402Z",
     "start_time": "2024-11-29T15:02:02.946602Z"
    }
   },
   "source": [
    "print(f\"Reading train data from the database: {common.DB_PATH}\")\n",
    "with sqlite3.connect(common.DB_PATH) as con:\n",
    "    cur = con.cursor()\n",
    "    res = cur.execute(\"SELECT * FROM train LIMIT 3\")\n",
    "    display(res.fetchall())"
   ],
   "outputs": [
    {
     "name": "stdout",
     "output_type": "stream",
     "text": [
      "Reading train data from the database: C:\\ESTIA\\MLops\\MyProject\\data\\NYC_taxi.db\n"
     ]
    },
    {
     "data": {
      "text/plain": [
       "[(1053743,\n",
       "  1,\n",
       "  1,\n",
       "  -73.86276245117188,\n",
       "  40.768821716308594,\n",
       "  -73.89170074462889,\n",
       "  40.74668884277344,\n",
       "  0,\n",
       "  18,\n",
       "  2,\n",
       "  6,\n",
       "  2016,\n",
       "  29,\n",
       "  1133),\n",
       " (273748,\n",
       "  1,\n",
       "  1,\n",
       "  -73.95803833007811,\n",
       "  40.78323745727539,\n",
       "  -73.97550964355469,\n",
       "  40.7608528137207,\n",
       "  0,\n",
       "  13,\n",
       "  0,\n",
       "  4,\n",
       "  2016,\n",
       "  25,\n",
       "  887),\n",
       " (433988,\n",
       "  1,\n",
       "  1,\n",
       "  -73.96945953369139,\n",
       "  40.78551864624024,\n",
       "  -73.98924255371094,\n",
       "  40.77174758911133,\n",
       "  0,\n",
       "  12,\n",
       "  5,\n",
       "  5,\n",
       "  2016,\n",
       "  7,\n",
       "  686)]"
      ]
     },
     "metadata": {},
     "output_type": "display_data"
    }
   ],
   "execution_count": 60
  }
 ],
 "metadata": {
  "kernelspec": {
   "display_name": "env",
   "language": "python",
   "name": "python3"
  },
  "language_info": {
   "codemirror_mode": {
    "name": "ipython",
    "version": 3
   },
   "file_extension": ".py",
   "mimetype": "text/x-python",
   "name": "python",
   "nbconvert_exporter": "python",
   "pygments_lexer": "ipython3",
   "version": "3.13.0"
  }
 },
 "nbformat": 4,
 "nbformat_minor": 5
}
